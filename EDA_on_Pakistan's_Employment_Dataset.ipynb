{
  "metadata": {
    "kernelspec": {
      "language": "python",
      "display_name": "Python 3",
      "name": "python3"
    },
    "language_info": {
      "name": "python",
      "version": "3.10.13",
      "mimetype": "text/x-python",
      "codemirror_mode": {
        "name": "ipython",
        "version": 3
      },
      "pygments_lexer": "ipython3",
      "nbconvert_exporter": "python",
      "file_extension": ".py"
    },
    "kaggle": {
      "accelerator": "none",
      "dataSources": [
        {
          "sourceId": 6409150,
          "sourceType": "datasetVersion",
          "datasetId": 3696110
        }
      ],
      "dockerImageVersionId": 30664,
      "isInternetEnabled": false,
      "language": "python",
      "sourceType": "notebook",
      "isGpuEnabled": false
    },
    "colab": {
      "name": "EDA on Pakistan's Employment Dataset",
      "provenance": [],
      "include_colab_link": true
    }
  },
  "nbformat_minor": 0,
  "nbformat": 4,
  "cells": [
    {
      "cell_type": "markdown",
      "metadata": {
        "id": "view-in-github",
        "colab_type": "text"
      },
      "source": [
        "<a href=\"https://colab.research.google.com/github/Muhammad-Shahzaibb/EDA-on-Pak-Employment-Data/blob/main/EDA_on_Pakistan's_Employment_Dataset.ipynb\" target=\"_parent\"><img src=\"https://colab.research.google.com/assets/colab-badge.svg\" alt=\"Open In Colab\"/></a>"
      ]
    },
    {
      "source": [
        "\n",
        "# IMPORTANT: RUN THIS CELL IN ORDER TO IMPORT YOUR KAGGLE DATA SOURCES\n",
        "# TO THE CORRECT LOCATION (/kaggle/input) IN YOUR NOTEBOOK,\n",
        "# THEN FEEL FREE TO DELETE THIS CELL.\n",
        "# NOTE: THIS NOTEBOOK ENVIRONMENT DIFFERS FROM KAGGLE'S PYTHON\n",
        "# ENVIRONMENT SO THERE MAY BE MISSING LIBRARIES USED BY YOUR\n",
        "# NOTEBOOK.\n",
        "\n",
        "import os\n",
        "import sys\n",
        "from tempfile import NamedTemporaryFile\n",
        "from urllib.request import urlopen\n",
        "from urllib.parse import unquote, urlparse\n",
        "from urllib.error import HTTPError\n",
        "from zipfile import ZipFile\n",
        "import tarfile\n",
        "import shutil\n",
        "\n",
        "CHUNK_SIZE = 40960\n",
        "DATA_SOURCE_MAPPING = 'pakistan-employment-dataset-2023:https%3A%2F%2Fstorage.googleapis.com%2Fkaggle-data-sets%2F3696110%2F6409150%2Fbundle%2Farchive.zip%3FX-Goog-Algorithm%3DGOOG4-RSA-SHA256%26X-Goog-Credential%3Dgcp-kaggle-com%2540kaggle-161607.iam.gserviceaccount.com%252F20240417%252Fauto%252Fstorage%252Fgoog4_request%26X-Goog-Date%3D20240417T170355Z%26X-Goog-Expires%3D259200%26X-Goog-SignedHeaders%3Dhost%26X-Goog-Signature%3D08d0784af6ee1e885f6ab497381d5192be2d32e3ea4e4126e30fd0748443b570ddf02015e7365538b082e352e46f8a59a702e6275b1317ee8f8019853b215a661d66433cf56cb92ead6a6b1448ce472e59767681ed9ce8949147e70aa77144b5c3af1bfdb8b84bbfae7ff1c42b516b83cbabfe750616f129fb6efc8868c2944ec2e1c58b4e865faf99d7349cf945773cdb0a71ade53a161cd993ceab95248d26fa0b80e4f680ad87a8dcdf4c019b8ebeca518233c19d4f20719056fa188750a399ae698e6fb21f023e0ef4447bac2508f904f57a65b9c93e667c91533ef9f8fd1b7801f04a0174af3bf087cb66145320120c15102fb3b017eda7aee33b805ac9'\n",
        "\n",
        "KAGGLE_INPUT_PATH='/kaggle/input'\n",
        "KAGGLE_WORKING_PATH='/kaggle/working'\n",
        "KAGGLE_SYMLINK='kaggle'\n",
        "\n",
        "!umount /kaggle/input/ 2> /dev/null\n",
        "shutil.rmtree('/kaggle/input', ignore_errors=True)\n",
        "os.makedirs(KAGGLE_INPUT_PATH, 0o777, exist_ok=True)\n",
        "os.makedirs(KAGGLE_WORKING_PATH, 0o777, exist_ok=True)\n",
        "\n",
        "try:\n",
        "  os.symlink(KAGGLE_INPUT_PATH, os.path.join(\"..\", 'input'), target_is_directory=True)\n",
        "except FileExistsError:\n",
        "  pass\n",
        "try:\n",
        "  os.symlink(KAGGLE_WORKING_PATH, os.path.join(\"..\", 'working'), target_is_directory=True)\n",
        "except FileExistsError:\n",
        "  pass\n",
        "\n",
        "for data_source_mapping in DATA_SOURCE_MAPPING.split(','):\n",
        "    directory, download_url_encoded = data_source_mapping.split(':')\n",
        "    download_url = unquote(download_url_encoded)\n",
        "    filename = urlparse(download_url).path\n",
        "    destination_path = os.path.join(KAGGLE_INPUT_PATH, directory)\n",
        "    try:\n",
        "        with urlopen(download_url) as fileres, NamedTemporaryFile() as tfile:\n",
        "            total_length = fileres.headers['content-length']\n",
        "            print(f'Downloading {directory}, {total_length} bytes compressed')\n",
        "            dl = 0\n",
        "            data = fileres.read(CHUNK_SIZE)\n",
        "            while len(data) > 0:\n",
        "                dl += len(data)\n",
        "                tfile.write(data)\n",
        "                done = int(50 * dl / int(total_length))\n",
        "                sys.stdout.write(f\"\\r[{'=' * done}{' ' * (50-done)}] {dl} bytes downloaded\")\n",
        "                sys.stdout.flush()\n",
        "                data = fileres.read(CHUNK_SIZE)\n",
        "            if filename.endswith('.zip'):\n",
        "              with ZipFile(tfile) as zfile:\n",
        "                zfile.extractall(destination_path)\n",
        "            else:\n",
        "              with tarfile.open(tfile.name) as tarfile:\n",
        "                tarfile.extractall(destination_path)\n",
        "            print(f'\\nDownloaded and uncompressed: {directory}')\n",
        "    except HTTPError as e:\n",
        "        print(f'Failed to load (likely expired) {download_url} to path {destination_path}')\n",
        "        continue\n",
        "    except OSError as e:\n",
        "        print(f'Failed to load {download_url} to path {destination_path}')\n",
        "        continue\n",
        "\n",
        "print('Data source import complete.')\n"
      ],
      "metadata": {
        "id": "rt59S4a8A-rs",
        "outputId": "8bf19179-73fe-4867-8e2c-67411ee64ff0",
        "colab": {
          "base_uri": "https://localhost:8080/"
        }
      },
      "cell_type": "code",
      "outputs": [
        {
          "output_type": "stream",
          "name": "stdout",
          "text": [
            "Downloading pakistan-employment-dataset-2023, 51636 bytes compressed\n",
            "[==================================================] 51636 bytes downloaded\n",
            "Downloaded and uncompressed: pakistan-employment-dataset-2023\n",
            "Data source import complete.\n"
          ]
        }
      ],
      "execution_count": 1
    },
    {
      "cell_type": "code",
      "source": [
        "import numpy as np\n",
        "import pandas as pd\n",
        "import matplotlib.pyplot as plt\n",
        "import seaborn as sns\n"
      ],
      "metadata": {
        "_uuid": "8f2839f25d086af736a60e9eeb907d3b93b6e0e5",
        "_cell_guid": "b1076dfc-b9ad-4769-8c92-a6c4dae69d19",
        "execution": {
          "iopub.status.busy": "2024-04-15T17:41:06.708122Z",
          "iopub.execute_input": "2024-04-15T17:41:06.708594Z",
          "iopub.status.idle": "2024-04-15T17:41:08.010063Z",
          "shell.execute_reply.started": "2024-04-15T17:41:06.708534Z",
          "shell.execute_reply": "2024-04-15T17:41:08.008992Z"
        },
        "trusted": true,
        "id": "-7U1OLL-A-ry"
      },
      "execution_count": 2,
      "outputs": []
    },
    {
      "cell_type": "code",
      "source": [
        "df = pd.read_csv(\"../input/pakistan-employment-dataset-2023/GenderBasedEmploymentInPakistan2023.csv\")\n",
        "df.head(10)"
      ],
      "metadata": {
        "execution": {
          "iopub.status.busy": "2024-04-15T19:19:09.290484Z",
          "iopub.execute_input": "2024-04-15T19:19:09.291259Z",
          "iopub.status.idle": "2024-04-15T19:19:09.323129Z",
          "shell.execute_reply.started": "2024-04-15T19:19:09.291226Z",
          "shell.execute_reply": "2024-04-15T19:19:09.321974Z"
        },
        "trusted": true,
        "id": "XXbwM9EiA-rz",
        "outputId": "a0a2de81-4df5-462f-b889-e75237ce4ae7",
        "colab": {
          "base_uri": "https://localhost:8080/",
          "height": 363
        }
      },
      "execution_count": 3,
      "outputs": [
        {
          "output_type": "execute_result",
          "data": {
            "text/plain": [
              "      Province        Division District                       Indicator  \\\n",
              "0  Balochistan  Kalat Division    Kalat          Working Age Population   \n",
              "1  Balochistan  Kalat Division    Kalat          Working Age Population   \n",
              "2  Balochistan  Kalat Division    Kalat                    Labour Force   \n",
              "3  Balochistan  Kalat Division    Kalat                    Labour Force   \n",
              "4  Balochistan  Kalat Division    Kalat                        Employed   \n",
              "5  Balochistan  Kalat Division    Kalat                        Employed   \n",
              "6  Balochistan  Kalat Division    Kalat                      Unemployed   \n",
              "7  Balochistan  Kalat Division    Kalat                      Unemployed   \n",
              "8  Balochistan  Kalat Division    Kalat  Refined Participation Rate (%)   \n",
              "9  Balochistan  Kalat Division    Kalat  Refined Participation Rate (%)   \n",
              "\n",
              "  Area Type   Total   Male Female  \n",
              "0     Rural  130000  70000  59000  \n",
              "1     Urban   28000  17000  12000  \n",
              "2     Rural   52600  49600   3100  \n",
              "3     Urban   10800  10600    300  \n",
              "4     Rural   49700  47400   2300  \n",
              "5     Urban   10000  10000      -  \n",
              "6     Rural    3000   2200    800  \n",
              "7     Urban     800    600    300  \n",
              "8     Rural    40.6   70.7    5.1  \n",
              "9     Urban    38.3   63.6    2.4  "
            ],
            "text/html": [
              "\n",
              "  <div id=\"df-a3708cff-30a2-4a86-8e42-b884d0e4595a\" class=\"colab-df-container\">\n",
              "    <div>\n",
              "<style scoped>\n",
              "    .dataframe tbody tr th:only-of-type {\n",
              "        vertical-align: middle;\n",
              "    }\n",
              "\n",
              "    .dataframe tbody tr th {\n",
              "        vertical-align: top;\n",
              "    }\n",
              "\n",
              "    .dataframe thead th {\n",
              "        text-align: right;\n",
              "    }\n",
              "</style>\n",
              "<table border=\"1\" class=\"dataframe\">\n",
              "  <thead>\n",
              "    <tr style=\"text-align: right;\">\n",
              "      <th></th>\n",
              "      <th>Province</th>\n",
              "      <th>Division</th>\n",
              "      <th>District</th>\n",
              "      <th>Indicator</th>\n",
              "      <th>Area Type</th>\n",
              "      <th>Total</th>\n",
              "      <th>Male</th>\n",
              "      <th>Female</th>\n",
              "    </tr>\n",
              "  </thead>\n",
              "  <tbody>\n",
              "    <tr>\n",
              "      <th>0</th>\n",
              "      <td>Balochistan</td>\n",
              "      <td>Kalat Division</td>\n",
              "      <td>Kalat</td>\n",
              "      <td>Working Age Population</td>\n",
              "      <td>Rural</td>\n",
              "      <td>130000</td>\n",
              "      <td>70000</td>\n",
              "      <td>59000</td>\n",
              "    </tr>\n",
              "    <tr>\n",
              "      <th>1</th>\n",
              "      <td>Balochistan</td>\n",
              "      <td>Kalat Division</td>\n",
              "      <td>Kalat</td>\n",
              "      <td>Working Age Population</td>\n",
              "      <td>Urban</td>\n",
              "      <td>28000</td>\n",
              "      <td>17000</td>\n",
              "      <td>12000</td>\n",
              "    </tr>\n",
              "    <tr>\n",
              "      <th>2</th>\n",
              "      <td>Balochistan</td>\n",
              "      <td>Kalat Division</td>\n",
              "      <td>Kalat</td>\n",
              "      <td>Labour Force</td>\n",
              "      <td>Rural</td>\n",
              "      <td>52600</td>\n",
              "      <td>49600</td>\n",
              "      <td>3100</td>\n",
              "    </tr>\n",
              "    <tr>\n",
              "      <th>3</th>\n",
              "      <td>Balochistan</td>\n",
              "      <td>Kalat Division</td>\n",
              "      <td>Kalat</td>\n",
              "      <td>Labour Force</td>\n",
              "      <td>Urban</td>\n",
              "      <td>10800</td>\n",
              "      <td>10600</td>\n",
              "      <td>300</td>\n",
              "    </tr>\n",
              "    <tr>\n",
              "      <th>4</th>\n",
              "      <td>Balochistan</td>\n",
              "      <td>Kalat Division</td>\n",
              "      <td>Kalat</td>\n",
              "      <td>Employed</td>\n",
              "      <td>Rural</td>\n",
              "      <td>49700</td>\n",
              "      <td>47400</td>\n",
              "      <td>2300</td>\n",
              "    </tr>\n",
              "    <tr>\n",
              "      <th>5</th>\n",
              "      <td>Balochistan</td>\n",
              "      <td>Kalat Division</td>\n",
              "      <td>Kalat</td>\n",
              "      <td>Employed</td>\n",
              "      <td>Urban</td>\n",
              "      <td>10000</td>\n",
              "      <td>10000</td>\n",
              "      <td>-</td>\n",
              "    </tr>\n",
              "    <tr>\n",
              "      <th>6</th>\n",
              "      <td>Balochistan</td>\n",
              "      <td>Kalat Division</td>\n",
              "      <td>Kalat</td>\n",
              "      <td>Unemployed</td>\n",
              "      <td>Rural</td>\n",
              "      <td>3000</td>\n",
              "      <td>2200</td>\n",
              "      <td>800</td>\n",
              "    </tr>\n",
              "    <tr>\n",
              "      <th>7</th>\n",
              "      <td>Balochistan</td>\n",
              "      <td>Kalat Division</td>\n",
              "      <td>Kalat</td>\n",
              "      <td>Unemployed</td>\n",
              "      <td>Urban</td>\n",
              "      <td>800</td>\n",
              "      <td>600</td>\n",
              "      <td>300</td>\n",
              "    </tr>\n",
              "    <tr>\n",
              "      <th>8</th>\n",
              "      <td>Balochistan</td>\n",
              "      <td>Kalat Division</td>\n",
              "      <td>Kalat</td>\n",
              "      <td>Refined Participation Rate (%)</td>\n",
              "      <td>Rural</td>\n",
              "      <td>40.6</td>\n",
              "      <td>70.7</td>\n",
              "      <td>5.1</td>\n",
              "    </tr>\n",
              "    <tr>\n",
              "      <th>9</th>\n",
              "      <td>Balochistan</td>\n",
              "      <td>Kalat Division</td>\n",
              "      <td>Kalat</td>\n",
              "      <td>Refined Participation Rate (%)</td>\n",
              "      <td>Urban</td>\n",
              "      <td>38.3</td>\n",
              "      <td>63.6</td>\n",
              "      <td>2.4</td>\n",
              "    </tr>\n",
              "  </tbody>\n",
              "</table>\n",
              "</div>\n",
              "    <div class=\"colab-df-buttons\">\n",
              "\n",
              "  <div class=\"colab-df-container\">\n",
              "    <button class=\"colab-df-convert\" onclick=\"convertToInteractive('df-a3708cff-30a2-4a86-8e42-b884d0e4595a')\"\n",
              "            title=\"Convert this dataframe to an interactive table.\"\n",
              "            style=\"display:none;\">\n",
              "\n",
              "  <svg xmlns=\"http://www.w3.org/2000/svg\" height=\"24px\" viewBox=\"0 -960 960 960\">\n",
              "    <path d=\"M120-120v-720h720v720H120Zm60-500h600v-160H180v160Zm220 220h160v-160H400v160Zm0 220h160v-160H400v160ZM180-400h160v-160H180v160Zm440 0h160v-160H620v160ZM180-180h160v-160H180v160Zm440 0h160v-160H620v160Z\"/>\n",
              "  </svg>\n",
              "    </button>\n",
              "\n",
              "  <style>\n",
              "    .colab-df-container {\n",
              "      display:flex;\n",
              "      gap: 12px;\n",
              "    }\n",
              "\n",
              "    .colab-df-convert {\n",
              "      background-color: #E8F0FE;\n",
              "      border: none;\n",
              "      border-radius: 50%;\n",
              "      cursor: pointer;\n",
              "      display: none;\n",
              "      fill: #1967D2;\n",
              "      height: 32px;\n",
              "      padding: 0 0 0 0;\n",
              "      width: 32px;\n",
              "    }\n",
              "\n",
              "    .colab-df-convert:hover {\n",
              "      background-color: #E2EBFA;\n",
              "      box-shadow: 0px 1px 2px rgba(60, 64, 67, 0.3), 0px 1px 3px 1px rgba(60, 64, 67, 0.15);\n",
              "      fill: #174EA6;\n",
              "    }\n",
              "\n",
              "    .colab-df-buttons div {\n",
              "      margin-bottom: 4px;\n",
              "    }\n",
              "\n",
              "    [theme=dark] .colab-df-convert {\n",
              "      background-color: #3B4455;\n",
              "      fill: #D2E3FC;\n",
              "    }\n",
              "\n",
              "    [theme=dark] .colab-df-convert:hover {\n",
              "      background-color: #434B5C;\n",
              "      box-shadow: 0px 1px 3px 1px rgba(0, 0, 0, 0.15);\n",
              "      filter: drop-shadow(0px 1px 2px rgba(0, 0, 0, 0.3));\n",
              "      fill: #FFFFFF;\n",
              "    }\n",
              "  </style>\n",
              "\n",
              "    <script>\n",
              "      const buttonEl =\n",
              "        document.querySelector('#df-a3708cff-30a2-4a86-8e42-b884d0e4595a button.colab-df-convert');\n",
              "      buttonEl.style.display =\n",
              "        google.colab.kernel.accessAllowed ? 'block' : 'none';\n",
              "\n",
              "      async function convertToInteractive(key) {\n",
              "        const element = document.querySelector('#df-a3708cff-30a2-4a86-8e42-b884d0e4595a');\n",
              "        const dataTable =\n",
              "          await google.colab.kernel.invokeFunction('convertToInteractive',\n",
              "                                                    [key], {});\n",
              "        if (!dataTable) return;\n",
              "\n",
              "        const docLinkHtml = 'Like what you see? Visit the ' +\n",
              "          '<a target=\"_blank\" href=https://colab.research.google.com/notebooks/data_table.ipynb>data table notebook</a>'\n",
              "          + ' to learn more about interactive tables.';\n",
              "        element.innerHTML = '';\n",
              "        dataTable['output_type'] = 'display_data';\n",
              "        await google.colab.output.renderOutput(dataTable, element);\n",
              "        const docLink = document.createElement('div');\n",
              "        docLink.innerHTML = docLinkHtml;\n",
              "        element.appendChild(docLink);\n",
              "      }\n",
              "    </script>\n",
              "  </div>\n",
              "\n",
              "\n",
              "<div id=\"df-92e074e4-4b41-496e-a292-58e097fefc5f\">\n",
              "  <button class=\"colab-df-quickchart\" onclick=\"quickchart('df-92e074e4-4b41-496e-a292-58e097fefc5f')\"\n",
              "            title=\"Suggest charts\"\n",
              "            style=\"display:none;\">\n",
              "\n",
              "<svg xmlns=\"http://www.w3.org/2000/svg\" height=\"24px\"viewBox=\"0 0 24 24\"\n",
              "     width=\"24px\">\n",
              "    <g>\n",
              "        <path d=\"M19 3H5c-1.1 0-2 .9-2 2v14c0 1.1.9 2 2 2h14c1.1 0 2-.9 2-2V5c0-1.1-.9-2-2-2zM9 17H7v-7h2v7zm4 0h-2V7h2v10zm4 0h-2v-4h2v4z\"/>\n",
              "    </g>\n",
              "</svg>\n",
              "  </button>\n",
              "\n",
              "<style>\n",
              "  .colab-df-quickchart {\n",
              "      --bg-color: #E8F0FE;\n",
              "      --fill-color: #1967D2;\n",
              "      --hover-bg-color: #E2EBFA;\n",
              "      --hover-fill-color: #174EA6;\n",
              "      --disabled-fill-color: #AAA;\n",
              "      --disabled-bg-color: #DDD;\n",
              "  }\n",
              "\n",
              "  [theme=dark] .colab-df-quickchart {\n",
              "      --bg-color: #3B4455;\n",
              "      --fill-color: #D2E3FC;\n",
              "      --hover-bg-color: #434B5C;\n",
              "      --hover-fill-color: #FFFFFF;\n",
              "      --disabled-bg-color: #3B4455;\n",
              "      --disabled-fill-color: #666;\n",
              "  }\n",
              "\n",
              "  .colab-df-quickchart {\n",
              "    background-color: var(--bg-color);\n",
              "    border: none;\n",
              "    border-radius: 50%;\n",
              "    cursor: pointer;\n",
              "    display: none;\n",
              "    fill: var(--fill-color);\n",
              "    height: 32px;\n",
              "    padding: 0;\n",
              "    width: 32px;\n",
              "  }\n",
              "\n",
              "  .colab-df-quickchart:hover {\n",
              "    background-color: var(--hover-bg-color);\n",
              "    box-shadow: 0 1px 2px rgba(60, 64, 67, 0.3), 0 1px 3px 1px rgba(60, 64, 67, 0.15);\n",
              "    fill: var(--button-hover-fill-color);\n",
              "  }\n",
              "\n",
              "  .colab-df-quickchart-complete:disabled,\n",
              "  .colab-df-quickchart-complete:disabled:hover {\n",
              "    background-color: var(--disabled-bg-color);\n",
              "    fill: var(--disabled-fill-color);\n",
              "    box-shadow: none;\n",
              "  }\n",
              "\n",
              "  .colab-df-spinner {\n",
              "    border: 2px solid var(--fill-color);\n",
              "    border-color: transparent;\n",
              "    border-bottom-color: var(--fill-color);\n",
              "    animation:\n",
              "      spin 1s steps(1) infinite;\n",
              "  }\n",
              "\n",
              "  @keyframes spin {\n",
              "    0% {\n",
              "      border-color: transparent;\n",
              "      border-bottom-color: var(--fill-color);\n",
              "      border-left-color: var(--fill-color);\n",
              "    }\n",
              "    20% {\n",
              "      border-color: transparent;\n",
              "      border-left-color: var(--fill-color);\n",
              "      border-top-color: var(--fill-color);\n",
              "    }\n",
              "    30% {\n",
              "      border-color: transparent;\n",
              "      border-left-color: var(--fill-color);\n",
              "      border-top-color: var(--fill-color);\n",
              "      border-right-color: var(--fill-color);\n",
              "    }\n",
              "    40% {\n",
              "      border-color: transparent;\n",
              "      border-right-color: var(--fill-color);\n",
              "      border-top-color: var(--fill-color);\n",
              "    }\n",
              "    60% {\n",
              "      border-color: transparent;\n",
              "      border-right-color: var(--fill-color);\n",
              "    }\n",
              "    80% {\n",
              "      border-color: transparent;\n",
              "      border-right-color: var(--fill-color);\n",
              "      border-bottom-color: var(--fill-color);\n",
              "    }\n",
              "    90% {\n",
              "      border-color: transparent;\n",
              "      border-bottom-color: var(--fill-color);\n",
              "    }\n",
              "  }\n",
              "</style>\n",
              "\n",
              "  <script>\n",
              "    async function quickchart(key) {\n",
              "      const quickchartButtonEl =\n",
              "        document.querySelector('#' + key + ' button');\n",
              "      quickchartButtonEl.disabled = true;  // To prevent multiple clicks.\n",
              "      quickchartButtonEl.classList.add('colab-df-spinner');\n",
              "      try {\n",
              "        const charts = await google.colab.kernel.invokeFunction(\n",
              "            'suggestCharts', [key], {});\n",
              "      } catch (error) {\n",
              "        console.error('Error during call to suggestCharts:', error);\n",
              "      }\n",
              "      quickchartButtonEl.classList.remove('colab-df-spinner');\n",
              "      quickchartButtonEl.classList.add('colab-df-quickchart-complete');\n",
              "    }\n",
              "    (() => {\n",
              "      let quickchartButtonEl =\n",
              "        document.querySelector('#df-92e074e4-4b41-496e-a292-58e097fefc5f button');\n",
              "      quickchartButtonEl.style.display =\n",
              "        google.colab.kernel.accessAllowed ? 'block' : 'none';\n",
              "    })();\n",
              "  </script>\n",
              "</div>\n",
              "    </div>\n",
              "  </div>\n"
            ],
            "application/vnd.google.colaboratory.intrinsic+json": {
              "type": "dataframe",
              "variable_name": "df",
              "summary": "{\n  \"name\": \"df\",\n  \"rows\": 4730,\n  \"fields\": [\n    {\n      \"column\": \"Province\",\n      \"properties\": {\n        \"dtype\": \"category\",\n        \"num_unique_values\": 4,\n        \"samples\": [\n          \"KPK\",\n          \"Sindh\",\n          \"Balochistan\"\n        ],\n        \"semantic_type\": \"\",\n        \"description\": \"\"\n      }\n    },\n    {\n      \"column\": \"Division\",\n      \"properties\": {\n        \"dtype\": \"category\",\n        \"num_unique_values\": 30,\n        \"samples\": [\n          \"Mirpurkhas Division\",\n          \"Faisalabad Division\",\n          \"Banbhore Division\"\n        ],\n        \"semantic_type\": \"\",\n        \"description\": \"\"\n      }\n    },\n    {\n      \"column\": \"District\",\n      \"properties\": {\n        \"dtype\": \"category\",\n        \"num_unique_values\": 131,\n        \"samples\": [\n          \"Shangla\",\n          \"Batagram\",\n          \"Kohlu\"\n        ],\n        \"semantic_type\": \"\",\n        \"description\": \"\"\n      }\n    },\n    {\n      \"column\": \"Indicator\",\n      \"properties\": {\n        \"dtype\": \"category\",\n        \"num_unique_values\": 20,\n        \"samples\": [\n          \"Working Age Population\",\n          \"Underemployment Rate (%)\",\n          \"Employees (%)\"\n        ],\n        \"semantic_type\": \"\",\n        \"description\": \"\"\n      }\n    },\n    {\n      \"column\": \"Area Type\",\n      \"properties\": {\n        \"dtype\": \"category\",\n        \"num_unique_values\": 3,\n        \"samples\": [\n          \"Rural\",\n          \"Urban\",\n          \"All Areas\"\n        ],\n        \"semantic_type\": \"\",\n        \"description\": \"\"\n      }\n    },\n    {\n      \"column\": \"Total\",\n      \"properties\": {\n        \"dtype\": \"category\",\n        \"num_unique_values\": 1838,\n        \"samples\": [\n          \"259654\",\n          \"589700\",\n          \"47.2\"\n        ],\n        \"semantic_type\": \"\",\n        \"description\": \"\"\n      }\n    },\n    {\n      \"column\": \"Male\",\n      \"properties\": {\n        \"dtype\": \"category\",\n        \"num_unique_values\": 1848,\n        \"samples\": [\n          \"36000\",\n          \"39.3\",\n          \"339000\"\n        ],\n        \"semantic_type\": \"\",\n        \"description\": \"\"\n      }\n    },\n    {\n      \"column\": \"Female\",\n      \"properties\": {\n        \"dtype\": \"category\",\n        \"num_unique_values\": 1626,\n        \"samples\": [\n          \"19458\",\n          \"38800\",\n          \"211000\"\n        ],\n        \"semantic_type\": \"\",\n        \"description\": \"\"\n      }\n    }\n  ]\n}"
            }
          },
          "metadata": {},
          "execution_count": 3
        }
      ]
    },
    {
      "cell_type": "code",
      "source": [
        "df.shape"
      ],
      "metadata": {
        "execution": {
          "iopub.status.busy": "2024-04-15T19:14:27.125665Z",
          "iopub.execute_input": "2024-04-15T19:14:27.126481Z",
          "iopub.status.idle": "2024-04-15T19:14:27.133365Z",
          "shell.execute_reply.started": "2024-04-15T19:14:27.126443Z",
          "shell.execute_reply": "2024-04-15T19:14:27.132437Z"
        },
        "trusted": true,
        "id": "Iq_0QMisA-r0"
      },
      "execution_count": null,
      "outputs": []
    },
    {
      "cell_type": "code",
      "source": [
        "df.info()"
      ],
      "metadata": {
        "execution": {
          "iopub.status.busy": "2024-04-15T19:14:29.612072Z",
          "iopub.execute_input": "2024-04-15T19:14:29.612731Z",
          "iopub.status.idle": "2024-04-15T19:14:29.628205Z",
          "shell.execute_reply.started": "2024-04-15T19:14:29.612698Z",
          "shell.execute_reply": "2024-04-15T19:14:29.627077Z"
        },
        "trusted": true,
        "id": "XG-AUbYZA-r1"
      },
      "execution_count": null,
      "outputs": []
    },
    {
      "cell_type": "code",
      "source": [
        "df['Total'] = pd.to_numeric(df['Total'], errors='coerce')\n",
        "df['Male'] = pd.to_numeric(df['Male'], errors='coerce')\n",
        "df['Female'] = pd.to_numeric(df['Female'], errors='coerce')\n",
        "df.dtypes\n"
      ],
      "metadata": {
        "execution": {
          "iopub.status.busy": "2024-04-15T19:19:18.548568Z",
          "iopub.execute_input": "2024-04-15T19:19:18.549351Z",
          "iopub.status.idle": "2024-04-15T19:19:18.577235Z",
          "shell.execute_reply.started": "2024-04-15T19:19:18.549312Z",
          "shell.execute_reply": "2024-04-15T19:19:18.576273Z"
        },
        "trusted": true,
        "id": "8I0KxEDrA-r1"
      },
      "execution_count": null,
      "outputs": []
    },
    {
      "cell_type": "code",
      "source": [
        "pd.options.display.float_format = '{:.2f}'.format\n",
        "#This will show you the data in normal form otherwise scientific\n",
        "df.describe()"
      ],
      "metadata": {
        "execution": {
          "iopub.status.busy": "2024-04-15T19:14:36.27785Z",
          "iopub.execute_input": "2024-04-15T19:14:36.278535Z",
          "iopub.status.idle": "2024-04-15T19:14:36.300156Z",
          "shell.execute_reply.started": "2024-04-15T19:14:36.2785Z",
          "shell.execute_reply": "2024-04-15T19:14:36.299011Z"
        },
        "trusted": true,
        "id": "QOfkhYWWA-r2"
      },
      "execution_count": null,
      "outputs": []
    },
    {
      "cell_type": "code",
      "source": [
        "# Checking which coloumns have Null Values\n",
        "[features for features in df.columns if df[features].isnull().sum()>0]\n"
      ],
      "metadata": {
        "execution": {
          "iopub.status.busy": "2024-04-15T19:14:39.158986Z",
          "iopub.execute_input": "2024-04-15T19:14:39.159373Z",
          "iopub.status.idle": "2024-04-15T19:14:39.171707Z",
          "shell.execute_reply.started": "2024-04-15T19:14:39.159345Z",
          "shell.execute_reply": "2024-04-15T19:14:39.170614Z"
        },
        "trusted": true,
        "id": "cEP5X41vA-r3"
      },
      "execution_count": null,
      "outputs": []
    },
    {
      "cell_type": "code",
      "source": [
        "# Checking no. of Null values in the coloumns\n",
        "df.isnull().sum()"
      ],
      "metadata": {
        "execution": {
          "iopub.status.busy": "2024-04-15T19:14:41.527059Z",
          "iopub.execute_input": "2024-04-15T19:14:41.527464Z",
          "iopub.status.idle": "2024-04-15T19:14:41.538899Z",
          "shell.execute_reply.started": "2024-04-15T19:14:41.527433Z",
          "shell.execute_reply": "2024-04-15T19:14:41.537872Z"
        },
        "trusted": true,
        "id": "noDQVzHCA-r3"
      },
      "execution_count": null,
      "outputs": []
    },
    {
      "cell_type": "code",
      "source": [
        "# Filling Null vales of coloumns by their respective mean\n",
        "df.fillna({\n",
        "   'Total' : df.Total.mean(),\n",
        "   'Male' : df.Male.mean(),\n",
        "   'Female' : df.Female.mean()\n",
        "},inplace=True)\n",
        "df\n"
      ],
      "metadata": {
        "execution": {
          "iopub.status.busy": "2024-04-15T18:51:13.978538Z",
          "iopub.execute_input": "2024-04-15T18:51:13.97898Z",
          "iopub.status.idle": "2024-04-15T18:51:14.0003Z",
          "shell.execute_reply.started": "2024-04-15T18:51:13.97895Z",
          "shell.execute_reply": "2024-04-15T18:51:13.999145Z"
        },
        "trusted": true,
        "id": "LSIrdGjYA-r4"
      },
      "execution_count": null,
      "outputs": []
    },
    {
      "cell_type": "code",
      "source": [
        "#checking outliers\n",
        "Q1 = df['Total'].quantile(0.25)\n",
        "Q3 = df['Total'].quantile(0.75)\n",
        "IQR = Q3 - Q1\n",
        "lower_bound = Q1 - 1.5*IQR\n",
        "upper_bound = Q3 + 1.5*IQR\n",
        "lower_bound,upper_bound\n"
      ],
      "metadata": {
        "execution": {
          "iopub.status.busy": "2024-04-15T18:51:20.898879Z",
          "iopub.execute_input": "2024-04-15T18:51:20.899277Z",
          "iopub.status.idle": "2024-04-15T18:51:20.910926Z",
          "shell.execute_reply.started": "2024-04-15T18:51:20.899247Z",
          "shell.execute_reply": "2024-04-15T18:51:20.910144Z"
        },
        "trusted": true,
        "id": "tMVxSblJA-r5"
      },
      "execution_count": null,
      "outputs": []
    },
    {
      "cell_type": "code",
      "source": [
        "outliers = df[(df['Total'] < lower_bound) | (df['Total'] > upper_bound)]\n",
        "outliers"
      ],
      "metadata": {
        "execution": {
          "iopub.status.busy": "2024-04-15T18:51:30.263966Z",
          "iopub.execute_input": "2024-04-15T18:51:30.265009Z",
          "iopub.status.idle": "2024-04-15T18:51:30.282694Z",
          "shell.execute_reply.started": "2024-04-15T18:51:30.26497Z",
          "shell.execute_reply": "2024-04-15T18:51:30.281638Z"
        },
        "trusted": true,
        "id": "0vLkWSiUA-r5"
      },
      "execution_count": null,
      "outputs": []
    },
    {
      "cell_type": "code",
      "source": [
        "province_population = df.groupby(['Province'])['Total'].sum().reset_index()\n",
        "province_population"
      ],
      "metadata": {
        "execution": {
          "iopub.status.busy": "2024-04-15T18:49:20.485328Z",
          "iopub.execute_input": "2024-04-15T18:49:20.486202Z",
          "iopub.status.idle": "2024-04-15T18:49:20.499618Z",
          "shell.execute_reply.started": "2024-04-15T18:49:20.486167Z",
          "shell.execute_reply": "2024-04-15T18:49:20.498512Z"
        },
        "trusted": true,
        "id": "X0bcSq8JA-r5"
      },
      "execution_count": null,
      "outputs": []
    },
    {
      "cell_type": "code",
      "source": [
        "plt.figure(figsize=(8,4))\n",
        "sns.barplot(x='Province', y='Total',data=province_population)\n",
        "plt.title('Total Population Distribution by Province')\n",
        "plt.xlabel('Province')\n",
        "plt.ylabel('Total Population')\n"
      ],
      "metadata": {
        "execution": {
          "iopub.status.busy": "2024-04-15T18:49:31.619787Z",
          "iopub.execute_input": "2024-04-15T18:49:31.620184Z",
          "iopub.status.idle": "2024-04-15T18:49:31.92067Z",
          "shell.execute_reply.started": "2024-04-15T18:49:31.620155Z",
          "shell.execute_reply": "2024-04-15T18:49:31.919522Z"
        },
        "trusted": true,
        "id": "A6ew1HEMA-r5"
      },
      "execution_count": null,
      "outputs": []
    },
    {
      "cell_type": "markdown",
      "source": [
        "##### OBSERVATION:\n",
        "Punjab has the highest population while balochistan has the lowest"
      ],
      "metadata": {
        "id": "2gQPdjglA-r6"
      }
    },
    {
      "cell_type": "code",
      "source": [
        "District_population = df.groupby(['District'])['Total'].sum().reset_index().sort_values(by='Total',ascending=False).head(10)\n"
      ],
      "metadata": {
        "execution": {
          "iopub.status.busy": "2024-04-15T18:03:21.499452Z",
          "iopub.execute_input": "2024-04-15T18:03:21.500014Z",
          "iopub.status.idle": "2024-04-15T18:03:21.512161Z",
          "shell.execute_reply.started": "2024-04-15T18:03:21.499977Z",
          "shell.execute_reply": "2024-04-15T18:03:21.510789Z"
        },
        "trusted": true,
        "id": "stAudfWIA-r8"
      },
      "execution_count": null,
      "outputs": []
    },
    {
      "cell_type": "code",
      "source": [
        "plt.figure(figsize=(13,4))\n",
        "sns.barplot(x='District', y='Total',data=District_population)\n",
        "plt.title('Top 10 Districts by Population')\n",
        "plt.xlabel('District')\n",
        "plt.ylabel('Total Population')\n"
      ],
      "metadata": {
        "execution": {
          "iopub.status.busy": "2024-04-15T18:03:38.662437Z",
          "iopub.execute_input": "2024-04-15T18:03:38.66288Z",
          "iopub.status.idle": "2024-04-15T18:03:39.500387Z",
          "shell.execute_reply.started": "2024-04-15T18:03:38.662843Z",
          "shell.execute_reply": "2024-04-15T18:03:39.499156Z"
        },
        "trusted": true,
        "id": "S_9i34GpA-r8"
      },
      "execution_count": null,
      "outputs": []
    },
    {
      "cell_type": "markdown",
      "source": [
        "#### OBSERVATION:\n",
        "Lahore is the highest populated District"
      ],
      "metadata": {
        "id": "VMIC9xhAA-r9"
      }
    },
    {
      "cell_type": "code",
      "source": [
        "Division_population = df.groupby(['Division'])['Total'].sum().reset_index().sort_values(by='Total',\n",
        "ascending=False).head(5)"
      ],
      "metadata": {
        "execution": {
          "iopub.status.busy": "2024-04-15T18:56:33.99853Z",
          "iopub.execute_input": "2024-04-15T18:56:33.99896Z",
          "iopub.status.idle": "2024-04-15T18:56:34.009652Z",
          "shell.execute_reply.started": "2024-04-15T18:56:33.998925Z",
          "shell.execute_reply": "2024-04-15T18:56:34.008347Z"
        },
        "trusted": true,
        "id": "1alRQy3fA-r9"
      },
      "execution_count": null,
      "outputs": []
    },
    {
      "cell_type": "code",
      "source": [
        "plt.figure(figsize=(13,4))\n",
        "sns.barplot(x='Division', y='Total',data=Division_population)\n",
        "plt.title('Top 5 Divisions by Population')\n",
        "plt.xlabel('District')\n",
        "plt.ylabel('Total Population')\n"
      ],
      "metadata": {
        "execution": {
          "iopub.status.busy": "2024-04-15T18:56:46.446682Z",
          "iopub.execute_input": "2024-04-15T18:56:46.447934Z",
          "iopub.status.idle": "2024-04-15T18:56:46.78285Z",
          "shell.execute_reply.started": "2024-04-15T18:56:46.447888Z",
          "shell.execute_reply": "2024-04-15T18:56:46.781781Z"
        },
        "trusted": true,
        "id": "vETeUmReA-r9"
      },
      "execution_count": null,
      "outputs": []
    },
    {
      "cell_type": "code",
      "source": [
        "df['Area Type'].unique()"
      ],
      "metadata": {
        "execution": {
          "iopub.status.busy": "2024-04-15T17:55:30.307478Z",
          "iopub.execute_input": "2024-04-15T17:55:30.307927Z",
          "iopub.status.idle": "2024-04-15T17:55:30.31648Z",
          "shell.execute_reply.started": "2024-04-15T17:55:30.307893Z",
          "shell.execute_reply": "2024-04-15T17:55:30.315224Z"
        },
        "trusted": true,
        "id": "SqOymOC1A-r9"
      },
      "execution_count": null,
      "outputs": []
    },
    {
      "cell_type": "code",
      "source": [
        "y = ['Rural','Urban']\n",
        "df_Area_Type=df[df['Area Type'].isin(y)]\n",
        "df_Area_Type"
      ],
      "metadata": {
        "execution": {
          "iopub.status.busy": "2024-04-15T19:17:24.553302Z",
          "iopub.execute_input": "2024-04-15T19:17:24.554548Z",
          "iopub.status.idle": "2024-04-15T19:17:24.574761Z",
          "shell.execute_reply.started": "2024-04-15T19:17:24.554498Z",
          "shell.execute_reply": "2024-04-15T19:17:24.573545Z"
        },
        "trusted": true,
        "id": "v6yvHh4cA-r-"
      },
      "execution_count": null,
      "outputs": []
    },
    {
      "cell_type": "code",
      "source": [
        "Area_Type= df_Area_Type.groupby('Area Type')['Total'].sum().reset_index()\n",
        "Area_Type"
      ],
      "metadata": {
        "execution": {
          "iopub.status.busy": "2024-04-15T19:17:29.67122Z",
          "iopub.execute_input": "2024-04-15T19:17:29.671627Z",
          "iopub.status.idle": "2024-04-15T19:17:29.685155Z",
          "shell.execute_reply.started": "2024-04-15T19:17:29.671578Z",
          "shell.execute_reply": "2024-04-15T19:17:29.68397Z"
        },
        "trusted": true,
        "id": "RqQ7ArMZA-r-"
      },
      "execution_count": null,
      "outputs": []
    },
    {
      "cell_type": "code",
      "source": [
        "plt.figure(figsize=(6,4))\n",
        "sns.barplot(x='Area Type', y='Total',data=Area_Type)\n",
        "plt.title('Population in Urban vs Rural Areas')\n",
        "plt.xlabel('Area Type')\n",
        "plt.ylabel('Total Population')\n",
        "\n"
      ],
      "metadata": {
        "execution": {
          "iopub.status.busy": "2024-04-15T19:17:34.760304Z",
          "iopub.execute_input": "2024-04-15T19:17:34.761232Z",
          "iopub.status.idle": "2024-04-15T19:17:35.057474Z",
          "shell.execute_reply.started": "2024-04-15T19:17:34.76119Z",
          "shell.execute_reply": "2024-04-15T19:17:35.056309Z"
        },
        "trusted": true,
        "id": "hReABoXqA-r-"
      },
      "execution_count": null,
      "outputs": []
    },
    {
      "cell_type": "markdown",
      "source": [
        "#### OBSERVATION:\n",
        "Population of Rural Areas is aprox. double  of Urban areas"
      ],
      "metadata": {
        "id": "2FZyoVMOA-r-"
      }
    },
    {
      "cell_type": "code",
      "source": [
        "df.Indicator.unique()"
      ],
      "metadata": {
        "execution": {
          "iopub.status.busy": "2024-04-15T17:42:59.3051Z",
          "iopub.execute_input": "2024-04-15T17:42:59.305573Z",
          "iopub.status.idle": "2024-04-15T17:42:59.313743Z",
          "shell.execute_reply.started": "2024-04-15T17:42:59.305524Z",
          "shell.execute_reply": "2024-04-15T17:42:59.312588Z"
        },
        "trusted": true,
        "id": "Mb4M_coVA-r-"
      },
      "execution_count": null,
      "outputs": []
    },
    {
      "cell_type": "code",
      "source": [
        "y=['Employment to Population Ratio (%)']\n",
        "Employed_data = df[df['Indicator'].isin(y)]\n",
        "Employed_data.head(10)"
      ],
      "metadata": {
        "execution": {
          "iopub.status.busy": "2024-04-15T19:26:16.221838Z",
          "iopub.execute_input": "2024-04-15T19:26:16.223095Z",
          "iopub.status.idle": "2024-04-15T19:26:16.243674Z",
          "shell.execute_reply.started": "2024-04-15T19:26:16.223055Z",
          "shell.execute_reply": "2024-04-15T19:26:16.242588Z"
        },
        "trusted": true,
        "id": "PqZDlW9vA-r-"
      },
      "execution_count": null,
      "outputs": []
    },
    {
      "cell_type": "code",
      "source": [
        "Employed_population = Employed_data.groupby(['Province'])['Total'].mean().reset_index()\n",
        "Employed_population"
      ],
      "metadata": {
        "execution": {
          "iopub.status.busy": "2024-04-15T19:27:05.950017Z",
          "iopub.execute_input": "2024-04-15T19:27:05.950436Z",
          "iopub.status.idle": "2024-04-15T19:27:05.963833Z",
          "shell.execute_reply.started": "2024-04-15T19:27:05.950407Z",
          "shell.execute_reply": "2024-04-15T19:27:05.9628Z"
        },
        "trusted": true,
        "id": "agyapph6A-r_"
      },
      "execution_count": null,
      "outputs": []
    },
    {
      "cell_type": "code",
      "source": [
        "plt.figure(figsize=(8,6))\n",
        "sns.barplot(x='Province', y='Total',data=Employed_population)\n",
        "plt.title('Comparison of Employement Rate of Provinces')\n",
        "plt.xlabel('Province')\n",
        "plt.ylabel('Total Population')\n"
      ],
      "metadata": {
        "execution": {
          "iopub.status.busy": "2024-04-15T19:27:11.76602Z",
          "iopub.execute_input": "2024-04-15T19:27:11.76639Z",
          "iopub.status.idle": "2024-04-15T19:27:12.052739Z",
          "shell.execute_reply.started": "2024-04-15T19:27:11.766363Z",
          "shell.execute_reply": "2024-04-15T19:27:12.051569Z"
        },
        "trusted": true,
        "id": "4JvnSfZFA-r_"
      },
      "execution_count": null,
      "outputs": []
    },
    {
      "cell_type": "markdown",
      "source": [
        "#### OBSERVATION:\n",
        "Sindh has the highest Employment to population Ratio"
      ],
      "metadata": {
        "id": "LST3FidyA-r_"
      }
    },
    {
      "cell_type": "code",
      "source": [
        "y=['Unemployment Rate (%)']\n",
        "Unemployed_data = df[df['Indicator'].isin(y)]\n",
        "Unemployed_data.head(10)"
      ],
      "metadata": {
        "execution": {
          "iopub.status.busy": "2024-04-15T19:23:46.666688Z",
          "iopub.execute_input": "2024-04-15T19:23:46.667107Z",
          "iopub.status.idle": "2024-04-15T19:23:46.684961Z",
          "shell.execute_reply.started": "2024-04-15T19:23:46.667074Z",
          "shell.execute_reply": "2024-04-15T19:23:46.683651Z"
        },
        "trusted": true,
        "id": "4RYkBWNoA-r_"
      },
      "execution_count": null,
      "outputs": []
    },
    {
      "cell_type": "code",
      "source": [
        "Unemployed_Rate = Unemployed_data.groupby(['Province'])['Total'].mean().reset_index()\n",
        "Unemployed_Rate"
      ],
      "metadata": {
        "execution": {
          "iopub.status.busy": "2024-04-15T19:23:58.098784Z",
          "iopub.execute_input": "2024-04-15T19:23:58.099166Z",
          "iopub.status.idle": "2024-04-15T19:23:58.11507Z",
          "shell.execute_reply.started": "2024-04-15T19:23:58.099138Z",
          "shell.execute_reply": "2024-04-15T19:23:58.113317Z"
        },
        "trusted": true,
        "id": "MQDx3htlA-r_"
      },
      "execution_count": null,
      "outputs": []
    },
    {
      "cell_type": "code",
      "source": [
        "plt.figure(figsize=(8,6))\n",
        "sns.barplot(x='Province', y='Total',data=Unemployed_Rate)\n",
        "plt.title('Comparison of Unemployement Rate of Provinces')\n",
        "plt.xlabel('Province')\n",
        "plt.ylabel('Total Population')\n"
      ],
      "metadata": {
        "execution": {
          "iopub.status.busy": "2024-04-15T19:24:06.035091Z",
          "iopub.execute_input": "2024-04-15T19:24:06.036258Z",
          "iopub.status.idle": "2024-04-15T19:24:06.344572Z",
          "shell.execute_reply.started": "2024-04-15T19:24:06.036222Z",
          "shell.execute_reply": "2024-04-15T19:24:06.343561Z"
        },
        "trusted": true,
        "id": "FPU7aeGBA-sA"
      },
      "execution_count": null,
      "outputs": []
    },
    {
      "cell_type": "markdown",
      "source": [
        "#### OBSERVATION:\n",
        "KPK has the highest Unemployment Rate"
      ],
      "metadata": {
        "id": "XIScx1vdA-sA"
      }
    },
    {
      "cell_type": "code",
      "source": [
        "y=['Literacy Rate (%)','Employment to Population Ratio (%)']\n",
        "Literacy_data = df[df['Indicator'].isin(y)]\n",
        "Literacy_data.head(10)"
      ],
      "metadata": {
        "execution": {
          "iopub.status.busy": "2024-04-15T19:30:03.682013Z",
          "iopub.execute_input": "2024-04-15T19:30:03.682396Z",
          "iopub.status.idle": "2024-04-15T19:30:03.698985Z",
          "shell.execute_reply.started": "2024-04-15T19:30:03.682367Z",
          "shell.execute_reply": "2024-04-15T19:30:03.698185Z"
        },
        "trusted": true,
        "id": "pFjUVmyhA-sA"
      },
      "execution_count": null,
      "outputs": []
    },
    {
      "cell_type": "code",
      "source": [
        "Literacy_Rate = Literacy_data.groupby(['Province'])['Total'].mean().reset_index()\n",
        "Literacy_Rate"
      ],
      "metadata": {
        "execution": {
          "iopub.status.busy": "2024-04-15T19:30:09.322749Z",
          "iopub.execute_input": "2024-04-15T19:30:09.323128Z",
          "iopub.status.idle": "2024-04-15T19:30:09.338213Z",
          "shell.execute_reply.started": "2024-04-15T19:30:09.323101Z",
          "shell.execute_reply": "2024-04-15T19:30:09.336657Z"
        },
        "trusted": true,
        "id": "Fg5EfFRHA-sA"
      },
      "execution_count": null,
      "outputs": []
    },
    {
      "cell_type": "code",
      "source": [
        "plt.figure(figsize=(12,6))\n",
        "sns.barplot(x='Province',y='Total', data=Literacy_Rate)\n",
        "plt.title('Avg Literacy Rate of provinces')\n",
        "plt.ylabel('Literacy Rate')\n",
        "plt.xlabel('Provinces')\n"
      ],
      "metadata": {
        "execution": {
          "iopub.status.busy": "2024-04-15T19:32:15.451246Z",
          "iopub.execute_input": "2024-04-15T19:32:15.45211Z",
          "iopub.status.idle": "2024-04-15T19:32:15.774088Z",
          "shell.execute_reply.started": "2024-04-15T19:32:15.452066Z",
          "shell.execute_reply": "2024-04-15T19:32:15.772919Z"
        },
        "trusted": true,
        "id": "NB_1PlHVA-sA"
      },
      "execution_count": null,
      "outputs": []
    },
    {
      "cell_type": "markdown",
      "source": [
        "#### OBSERVATION:\n",
        "Punjab has the highest Literacy Rate And Kpk has the lowest"
      ],
      "metadata": {
        "id": "2IMXkfYCA-sB"
      }
    },
    {
      "cell_type": "code",
      "source": [
        "Literacy_Rate_Areas = Literacy_data.groupby(['Area Type'])['Total'].mean().reset_index()\n",
        "Literacy_Rate_Areas"
      ],
      "metadata": {
        "execution": {
          "iopub.status.busy": "2024-04-15T19:36:23.809544Z",
          "iopub.execute_input": "2024-04-15T19:36:23.810752Z",
          "iopub.status.idle": "2024-04-15T19:36:23.824193Z",
          "shell.execute_reply.started": "2024-04-15T19:36:23.810704Z",
          "shell.execute_reply": "2024-04-15T19:36:23.823095Z"
        },
        "trusted": true,
        "id": "iMNvEq9MA-sB"
      },
      "execution_count": null,
      "outputs": []
    },
    {
      "cell_type": "code",
      "source": [
        "plt.figure(figsize=(6,4))\n",
        "sns.barplot(x='Area Type',y='Total', data=Literacy_Rate_Areas)\n",
        "plt.title('Avg Literacy Rate of Urban vs Rural Areas')\n",
        "plt.ylabel('Literacy Rate')\n",
        "plt.xlabel('Area Types')"
      ],
      "metadata": {
        "execution": {
          "iopub.status.busy": "2024-04-15T19:38:02.228663Z",
          "iopub.execute_input": "2024-04-15T19:38:02.229088Z",
          "iopub.status.idle": "2024-04-15T19:38:02.455994Z",
          "shell.execute_reply.started": "2024-04-15T19:38:02.229053Z",
          "shell.execute_reply": "2024-04-15T19:38:02.454964Z"
        },
        "trusted": true,
        "id": "cRjQI8f1A-sH"
      },
      "execution_count": null,
      "outputs": []
    },
    {
      "cell_type": "markdown",
      "source": [
        "#### OBSERVATION:\n",
        "Literacy Rate of Urban Areas are more than the literacy Rate of Rural Areas"
      ],
      "metadata": {
        "id": "J-stwETeA-sH"
      }
    },
    {
      "cell_type": "code",
      "source": [
        "Literacy_Rate_District = Literacy_data.groupby(['District'])['Total'].mean().reset_index().sort_values(by='Total',ascending=False).head(5)\n",
        "Literacy_Rate_District"
      ],
      "metadata": {
        "execution": {
          "iopub.status.busy": "2024-04-15T19:45:49.107478Z",
          "iopub.execute_input": "2024-04-15T19:45:49.107913Z",
          "iopub.status.idle": "2024-04-15T19:45:49.122645Z",
          "shell.execute_reply.started": "2024-04-15T19:45:49.107882Z",
          "shell.execute_reply": "2024-04-15T19:45:49.121403Z"
        },
        "trusted": true,
        "id": "3dWxOMv6A-sI"
      },
      "execution_count": null,
      "outputs": []
    },
    {
      "cell_type": "code",
      "source": [
        "plt.figure(figsize=(6,4))\n",
        "sns.barplot(x='District',y='Total', data=Literacy_Rate_District)\n",
        "plt.title('Avg Literacy Rate of Districts(Top 5)')\n",
        "plt.ylabel('Literacy Rate')\n",
        "plt.xlabel('Districts')"
      ],
      "metadata": {
        "execution": {
          "iopub.status.busy": "2024-04-15T19:47:00.063091Z",
          "iopub.execute_input": "2024-04-15T19:47:00.063515Z",
          "iopub.status.idle": "2024-04-15T19:47:00.319333Z",
          "shell.execute_reply.started": "2024-04-15T19:47:00.063484Z",
          "shell.execute_reply": "2024-04-15T19:47:00.318494Z"
        },
        "trusted": true,
        "id": "4D1Gmc2-A-sI"
      },
      "execution_count": null,
      "outputs": []
    },
    {
      "cell_type": "markdown",
      "source": [
        "#### OBSERVATION:\n",
        "Islamabad is the highest literacy rate among all the Districts."
      ],
      "metadata": {
        "id": "nAKyOqDzA-sI"
      }
    }
  ]
}